{
 "cells": [
  {
   "cell_type": "code",
   "execution_count": 1,
   "metadata": {},
   "outputs": [],
   "source": [
    "%matplotlib inline\n",
    "import random\n",
    "import os\n",
    "import re\n",
    "import unicodedata\n",
    "import io\n",
    "import time\n",
    "\n",
    "import numpy as np\n",
    "import matplotlib.pyplot as plt"
   ]
  },
  {
   "cell_type": "code",
   "execution_count": 2,
   "metadata": {},
   "outputs": [],
   "source": [
    "import torch\n",
    "import torch.nn as nn\n",
    "import torch.optim as optim\n",
    "import torch.nn.functional as F\n",
    "from torch.autograd import Variable"
   ]
  },
  {
   "cell_type": "code",
   "execution_count": 3,
   "metadata": {},
   "outputs": [],
   "source": [
    "SOS_TOKEN = 1\n",
    "EOS_TOKEN = 2"
   ]
  },
  {
   "cell_type": "code",
   "execution_count": 4,
   "metadata": {},
   "outputs": [],
   "source": [
    "class Lang:\n",
    "    def __init__(self, name):\n",
    "        self.name = name\n",
    "        self.word2idx = {'SOS' : SOS_TOKEN, 'EOS' : EOS_TOKEN}\n",
    "        self.idx2word = {v : k for k,v in self.word2idx.items()}\n",
    "        self.word2cnt = {}\n",
    "        self.idx = 3\n",
    "        \n",
    "    def add_word(self, w):\n",
    "        if w not in self.word2idx:\n",
    "            self.word2idx[w] = self.idx\n",
    "            self.idx2word[self.idx] = w\n",
    "            self.word2cnt[w] = 1\n",
    "            self.idx += 1\n",
    "        else:\n",
    "            self.word2cnt[w] += 1\n",
    "    \n",
    "    def add_sentence(self, s):\n",
    "#         s = s.lower().strip()    # just to be sure\n",
    "        for w in s.split(' '):\n",
    "            self.add_word(w)"
   ]
  },
  {
   "cell_type": "code",
   "execution_count": 5,
   "metadata": {},
   "outputs": [],
   "source": [
    "# Turn a Unicode string to plain ASCII, thanks to\n",
    "# http://stackoverflow.com/a/518232/2809427\n",
    "def unicode_to_ascii(s):                                      #? why convert 2 ascii\n",
    "    return ''.join(c for c in unicodedata.normalize('NFD', s) if unicodedata.category(c) != 'Mn')"
   ]
  },
  {
   "cell_type": "code",
   "execution_count": 6,
   "metadata": {},
   "outputs": [],
   "source": [
    "t = 'addas.'"
   ]
  },
  {
   "cell_type": "code",
   "execution_count": 7,
   "metadata": {},
   "outputs": [
    {
     "data": {
      "text/plain": [
       "'addas . '"
      ]
     },
     "execution_count": 7,
     "metadata": {},
     "output_type": "execute_result"
    }
   ],
   "source": [
    "x = re.sub(r\"[^A-Za-z0-9,.!\\/'+=]\", \" \", t)\n",
    "x = re.sub(r\"\\.\", r\" . \", t)\n",
    "x"
   ]
  },
  {
   "cell_type": "code",
   "execution_count": 8,
   "metadata": {},
   "outputs": [],
   "source": [
    "# Lowercase, trim, and remove non-letter characters\n",
    "def normalize_string(s):\n",
    "    s = unicode_to_ascii(s.lower().strip())\n",
    "#     s = s.lower().strip()\n",
    "    s = re.sub(r\"[^A-Za-z0-9,.!\\/'+=]\", \" \", s)\n",
    "    s = re.sub(r\"!\", \" ! \", s)\n",
    "    s = re.sub(r\"\\.\", \" . \", s)\n",
    "    s = re.sub(r\"what's\", \"what is \", s)\n",
    "    s = re.sub(r\"it's\", r\"it is\", s)\n",
    "    s = re.sub(r\"\\'s\", \" \", s)\n",
    "    s = re.sub(r\" n \", \" and \", s)\n",
    "    s = re.sub(r\"\\'ve\", \" have \", s)\n",
    "    s = re.sub(r\"can't\", \"cannot \", s)\n",
    "    s = re.sub(r\"n't\", \" not \", s)\n",
    "    s = re.sub(r\"i'm\", \"i am \", s)\n",
    "    s = re.sub(r\"\\'re\", \" are \", s)\n",
    "    s = re.sub(r\"\\'d\", \" would \", s)\n",
    "    s = re.sub(r\"\\'ll\", \" will \", s)\n",
    "    s = re.sub(r\",\", \" \", s)\n",
    "    s = re.sub(r\"\\/\", \" \", s)\n",
    "    s = re.sub(r\"\\^\", \" ^ \", s)\n",
    "    s = re.sub(r\"\\+\", \" + \", s)\n",
    "    s = re.sub(r\"\\-\", \" - \", s)\n",
    "    s = re.sub(r\"\\=\", \" = \", s)\n",
    "    s = re.sub(r\"'\", \" \", s)\n",
    "    s = re.sub(r\":\", \" : \", s)\n",
    "    s = re.sub(' +', ' ', s)\n",
    "    \n",
    "    s = s.strip()\n",
    "    \n",
    "    return s"
   ]
  },
  {
   "cell_type": "code",
   "execution_count": 9,
   "metadata": {},
   "outputs": [],
   "source": [
    "def indent_end(s):\n",
    "    if s[-1] in ['|', '?', '!', '।']:\n",
    "        s = s[:-1] + ' ' + s[-1]\n",
    "    return s"
   ]
  },
  {
   "cell_type": "code",
   "execution_count": 10,
   "metadata": {},
   "outputs": [],
   "source": [
    "def read_langs(lang1, lang2, reverse = False):\n",
    "    data = io.open(f'{lang1}-{lang2}/{lang1}.txt').read().strip().split('\\n')\n",
    "    pairs = [[normalize_string(s) for s in line.split('\\t')] for line in data]\n",
    "    pairs = []\n",
    "    for line in data:\n",
    "        s = line.split('\\t')\n",
    "        pairs.append([normalize_string(s[0]), indent_end(s[1])])\n",
    "    \n",
    "    if reverse:\n",
    "        pairs = [list(reversed(pair)) for pair in pairs]\n",
    "        input_lang = Lang(lang2)\n",
    "        output_lang = Lang(lang1)\n",
    "    else:\n",
    "        input_lang = Lang(lang1)\n",
    "        output_lang = Lang(lang2)\n",
    "    \n",
    "    return input_lang, output_lang, pairs"
   ]
  },
  {
   "cell_type": "code",
   "execution_count": 11,
   "metadata": {},
   "outputs": [
    {
     "name": "stdout",
     "output_type": "stream",
     "text": [
      "Read 2867 sentence pairs\n",
      "['have a nice time .', 'मज़े करो ।']\n",
      "['i forgot to ask him .', 'मैं उससे पूछना भूल गया ।']\n",
      "Counting words...\n",
      "hin 2359\n",
      "eng 2970\n",
      "['let him in .', 'उसे अंगर आने दो ।']\n"
     ]
    }
   ],
   "source": [
    "def prepare_data(lang1, lang2, reverse = False):\n",
    "    input_lang, output_lang, pairs = read_langs(lang1, lang2, reverse)\n",
    "    for pair in pairs:\n",
    "        input_lang.add_sentence(pair[0])\n",
    "        output_lang.add_sentence(pair[1])\n",
    "    \n",
    "    print(\"Read %s sentence pairs\" % len(pairs))\n",
    "    print(random.choice(pairs))\n",
    "    print(random.choice(pairs))\n",
    "    \n",
    "    print(\"Counting words...\")\n",
    "    print(input_lang.name, input_lang.idx)\n",
    "    print(output_lang.name, output_lang.idx)\n",
    "    return input_lang, output_lang, pairs\n",
    "\n",
    "input_lang, output_lang, pairs = prepare_data('hin', 'eng', False)\n",
    "print(random.choice(pairs))"
   ]
  },
  {
   "cell_type": "code",
   "execution_count": 12,
   "metadata": {},
   "outputs": [
    {
     "data": {
      "text/plain": [
       "127"
      ]
     },
     "execution_count": 12,
     "metadata": {},
     "output_type": "execute_result"
    }
   ],
   "source": [
    "MAX_LENGTH = max(len(pair[0]) for pair in pairs)\n",
    "MAX_LENGTH"
   ]
  },
  {
   "cell_type": "markdown",
   "metadata": {},
   "source": [
    "## Embedding"
   ]
  },
  {
   "cell_type": "code",
   "execution_count": 13,
   "metadata": {},
   "outputs": [
    {
     "data": {
      "text/plain": [
       "[('ट्रेफ़िक', 2960),\n",
       " ('हादसे', 2961),\n",
       " ('कीड़ों', 2962),\n",
       " ('परेशानी', 2963),\n",
       " ('जिस', 2964),\n",
       " ('करें।', 2965),\n",
       " ('दूसरी', 2966),\n",
       " ('अनुवादों', 2967),\n",
       " ('प्रभावित', 2968),\n",
       " ('दें', 2969)]"
      ]
     },
     "execution_count": 13,
     "metadata": {},
     "output_type": "execute_result"
    }
   ],
   "source": [
    "sorted(output_lang.word2idx.items(), key = lambda x : x[1])[-10:]"
   ]
  },
  {
   "cell_type": "code",
   "execution_count": 14,
   "metadata": {},
   "outputs": [],
   "source": [
    "eng_vocab_size = input_lang.idx + 1"
   ]
  },
  {
   "cell_type": "code",
   "execution_count": 15,
   "metadata": {},
   "outputs": [],
   "source": [
    "hin_vocab_size = output_lang.idx + 1"
   ]
  },
  {
   "cell_type": "code",
   "execution_count": 16,
   "metadata": {},
   "outputs": [
    {
     "data": {
      "text/plain": [
       "(2360, 2971)"
      ]
     },
     "execution_count": 16,
     "metadata": {},
     "output_type": "execute_result"
    }
   ],
   "source": [
    "eng_vocab_size, hin_vocab_size"
   ]
  },
  {
   "cell_type": "markdown",
   "metadata": {},
   "source": [
    "########################################################################################################"
   ]
  },
  {
   "cell_type": "code",
   "execution_count": null,
   "metadata": {},
   "outputs": [],
   "source": [
    "embedding_matrix = np.zeros((eng_vocab_size, 300))"
   ]
  },
  {
   "cell_type": "code",
   "execution_count": null,
   "metadata": {},
   "outputs": [],
   "source": [
    "for data in io.open('../../Numberbatch Embeddings/numberbatch-en.txt').read().split('\\n'):\n",
    "    if word in input_lang.word2idx:\n",
    "        word, vec = data.split('\\t')\n",
    "        embedding_matrix[input_lang.word2idx[word]] = vec"
   ]
  },
  {
   "cell_type": "code",
   "execution_count": null,
   "metadata": {},
   "outputs": [],
   "source": [
    "word_present = []\n",
    "for word in input_lang.word2idx:\n",
    "    if word"
   ]
  },
  {
   "cell_type": "code",
   "execution_count": null,
   "metadata": {},
   "outputs": [],
   "source": []
  },
  {
   "cell_type": "markdown",
   "metadata": {},
   "source": [
    "## Encoder"
   ]
  },
  {
   "cell_type": "markdown",
   "metadata": {},
   "source": [
    "![](encoder.png)"
   ]
  },
  {
   "cell_type": "code",
   "execution_count": 17,
   "metadata": {},
   "outputs": [],
   "source": [
    "class EncoderRNN(nn.Module):\n",
    "    def __init__(self, input_size, hidden_size):\n",
    "        super(EncoderRNN, self).__init__()\n",
    "        self.hidden_size = hidden_size\n",
    "        self.embedding = nn.Embedding(input_size, hidden_size)\n",
    "        self.gru = nn.GRU(hidden_size, hidden_size)\n",
    "    \n",
    "    def forward(self, x, hidden):\n",
    "        embedded = self.embedding(x).view(1, 1, -1)\n",
    "        output, hidden = self.gru(embedded, hidden)\n",
    "        return output, hidden\n",
    "    \n",
    "    def initHidden(self):\n",
    "        return torch.zeros(1, 1, self.hidden_size)"
   ]
  },
  {
   "cell_type": "markdown",
   "metadata": {},
   "source": [
    "![](AttnDecoderRNN.png)"
   ]
  },
  {
   "cell_type": "code",
   "execution_count": 18,
   "metadata": {},
   "outputs": [],
   "source": [
    "class AttnDecoderRNN(nn.Module):\n",
    "    def __init__(self, hidden_size, output_size, dropout_p, max_length = MAX_LENGTH):\n",
    "        super(AttnDecoderRNN, self).__init__()\n",
    "        self.hidden_size = hidden_size\n",
    "        \n",
    "        self.embedding = nn.Embedding(output_size, hidden_size)\n",
    "        self.dropout = nn.Dropout(p = dropout_p)\n",
    "        self.attn = nn.Linear(2 * hidden_size, max_length)\n",
    "        self.attn_combine = nn.Linear(2 * hidden_size, hidden_size)\n",
    "        self.gru = nn.GRU(hidden_size, hidden_size)\n",
    "        self.output = nn.Linear(hidden_size, output_size)\n",
    "        \n",
    "    def forward(self, x, hidden, encoder_outputs):\n",
    "        embedded = self.embedding(x).view(1, 1, -1)\n",
    "        embedded = self.dropout(embedded)\n",
    "        \n",
    "        attn_weights = F.softmax(self.attn(torch.cat((embedded[0], hidden[0]), dim = 1)), dim = 1)\n",
    "        attn_applied = torch.bmm(attn_weights.unsqueeze(0), encoder_outputs.unsqueeze(0))\n",
    "        \n",
    "        attn_combine = self.attn_combine(torch.cat((embedded[0], attn_applied[0]), dim = 1)).unsqueeze(0)\n",
    "        output = F.relu(attn_combine)\n",
    "        \n",
    "        output, hidden = self.gru(output, hidden)\n",
    "        \n",
    "        output = F.log_softmax(self.output(output[0]), dim = 1)\n",
    "        \n",
    "        return output, hidden, attn_weights\n",
    "        \n",
    "    def initHidden(self):\n",
    "        return torch.zeros(1, 1, self.hidden_size)"
   ]
  },
  {
   "cell_type": "markdown",
   "metadata": {},
   "source": [
    "### Preparing training data"
   ]
  },
  {
   "cell_type": "code",
   "execution_count": 19,
   "metadata": {},
   "outputs": [],
   "source": [
    "def indexes_from_sentence(lang, sentence):\n",
    "    return [lang.word2idx[word] for word in sentence.split(' ')]\n",
    "\n",
    "def tensor_from_sentence(lang, sentence):\n",
    "    indexes = indexes_from_sentence(lang, sentence)\n",
    "    indexes.append(EOS_TOKEN)\n",
    "    return torch.tensor(indexes, dtype = torch.long).view(-1, 1)\n",
    "\n",
    "def tensors_from_pair(pair):\n",
    "    input_tensor = tensor_from_sentence(input_lang, pair[0])\n",
    "    target_tensor = tensor_from_sentence(output_lang, pair[1])\n",
    "    \n",
    "    return input_tensor, target_tensor"
   ]
  },
  {
   "cell_type": "code",
   "execution_count": 20,
   "metadata": {},
   "outputs": [
    {
     "data": {
      "text/plain": [
       "(tensor([[3],\n",
       "         [4],\n",
       "         [2]]), tensor([[3],\n",
       "         [4],\n",
       "         [2]]))"
      ]
     },
     "execution_count": 20,
     "metadata": {},
     "output_type": "execute_result"
    }
   ],
   "source": [
    "tensors_from_pair(pairs[0])"
   ]
  },
  {
   "cell_type": "markdown",
   "metadata": {},
   "source": [
    "**Teacher forcing** is the concept of using the real target outputs as each next input, instead of using the decoder’s guess as the next input. Using teacher forcing causes it to converge faster but when the trained network is exploited, it may exhibit instability."
   ]
  },
  {
   "cell_type": "code",
   "execution_count": 21,
   "metadata": {},
   "outputs": [],
   "source": [
    "teacher_forcing_ratio = 0.6"
   ]
  },
  {
   "cell_type": "code",
   "execution_count": 22,
   "metadata": {},
   "outputs": [],
   "source": [
    "def train(input_tensor, target_tensor, encoder, decoder, encoder_optimizer, decoder_optimizer, criterion, max_length = MAX_LENGTH):\n",
    "    encoder_hidden = encoder.initHidden()\n",
    "    \n",
    "    encoder_optimizer.zero_grad()\n",
    "    decoder_optimizer.zero_grad()\n",
    "    \n",
    "    input_length = input_tensor.size(0)\n",
    "    target_length = target_tensor.size(0)\n",
    "    \n",
    "    encoder_outputs = torch.zeros(max_length, encoder.hidden_size)\n",
    "    encoder_hiddens = torch.zeros(max_length, encoder.hidden_size)\n",
    "    \n",
    "    for ei in range(input_length):\n",
    "        encoder_output, encoder_hidden = encoder(input_tensor[ei], encoder_hidden)\n",
    "        encoder_outputs[ei] = encoder_output[0][0]\n",
    "        encoder_hiddens[ei] = encoder_hidden[0][0]\n",
    "    \n",
    "    loss = 0\n",
    "    \n",
    "    decoder_hidden = encoder_hidden\n",
    "    \n",
    "    decoder_input = torch.tensor([[SOS_TOKEN]], dtype = torch.long)\n",
    "    \n",
    "    for di in range(target_length):\n",
    "        decoder_output, decoder_hidden, decoder_attn = decoder(decoder_input, decoder_hidden, encoder_outputs)\n",
    "        \n",
    "        use_teacher_forcing = True if random.random() < teacher_forcing_ratio else False\n",
    "        \n",
    "        if use_teacher_forcing:\n",
    "            decoder_input = target_tensor[di]\n",
    "            loss += criterion(decoder_output, target_tensor[di])\n",
    "        else:\n",
    "            topv, topi = decoder_output.topk(1)\n",
    "            decoder_input = topi.squeeze().detach()             # detach from history as input\n",
    "            \n",
    "            loss += criterion(decoder_output, target_tensor[di])\n",
    "        \n",
    "        if decoder_input.item() == EOS_TOKEN:\n",
    "            break\n",
    "    \n",
    "    loss.backward()\n",
    "    encoder_optimizer.step()\n",
    "    decoder_optimizer.step()\n",
    "    \n",
    "    return loss.item() / target_length"
   ]
  },
  {
   "cell_type": "markdown",
   "metadata": {},
   "source": [
    "#### This is a helper function to print time elapsed and estimated time remaining given the current time and progress %."
   ]
  },
  {
   "cell_type": "code",
   "execution_count": 23,
   "metadata": {},
   "outputs": [],
   "source": [
    "import time\n",
    "import math\n",
    "\n",
    "\n",
    "def asMinutes(s):\n",
    "    m = math.floor(s / 60)\n",
    "    s -= m * 60\n",
    "    return '%dm %ds' % (m, s)\n",
    "\n",
    "\n",
    "def timeSince(since, percent):\n",
    "    now = time.time()\n",
    "    s = now - since\n",
    "    es = s / (percent)\n",
    "    rs = es - s\n",
    "    return '%s (- %s)' % (asMinutes(s), asMinutes(rs))"
   ]
  },
  {
   "cell_type": "markdown",
   "metadata": {},
   "source": [
    "#### The whole training process looks like this:\n",
    "* Start a timer\n",
    "* Initialize optimizers and criterion\n",
    "* Create set of training pairs\n",
    "* Start empty losses array for plotting"
   ]
  },
  {
   "cell_type": "code",
   "execution_count": 24,
   "metadata": {},
   "outputs": [],
   "source": [
    "def train_iters(encoder, decoder, n_iters, print_every = 1000, plot_every = 100, learning_rate = 0.001):\n",
    "    start = time.time()\n",
    "    plot_losses = []\n",
    "    print_loss_total = 0  # Reset after every print_every\n",
    "    plot_loss_total = 0  # Reset after every plot_every\n",
    "    \n",
    "    encoder_optimizer = optim.Adam(encoder.parameters(), lr = learning_rate)\n",
    "    decoder_optimizer = optim.Adam(decoder.parameters(), lr = learning_rate)\n",
    "    \n",
    "    training_pairs = [tensors_from_pair(random.choice(pairs)) for _ in range(n_iters)]\n",
    "    \n",
    "    criterion = nn.NLLLoss()\n",
    "    \n",
    "    for n_iter in range(1, n_iters + 1):\n",
    "        training_pair = training_pairs[n_iter - 1]\n",
    "        input_tensor = training_pair[0]\n",
    "        target_tensor = training_pair[1]\n",
    "\n",
    "        loss = train(input_tensor, target_tensor, encoder,\n",
    "                     decoder, encoder_optimizer, decoder_optimizer, criterion)\n",
    "        \n",
    "        plot_losses.append(loss)\n",
    "        \n",
    "        print_loss_total += loss\n",
    "        plot_loss_total += loss\n",
    "\n",
    "        if n_iter % print_every == 0:\n",
    "            print_loss_avg = print_loss_total / print_every\n",
    "            print_loss_total = 0\n",
    "            print('%s (%d %d%%) %.4f' % (timeSince(start, n_iter / n_iters),\n",
    "                                         n_iter, n_iter / n_iters * 100, print_loss_avg))\n",
    "\n",
    "        if n_iter % plot_every == 0:\n",
    "            plot_loss_avg = plot_loss_total / plot_every\n",
    "            plot_losses.append(plot_loss_avg)\n",
    "            plot_loss_total = 0\n",
    "\n",
    "    show_plot(plot_losses)"
   ]
  },
  {
   "cell_type": "code",
   "execution_count": 25,
   "metadata": {},
   "outputs": [],
   "source": [
    "import matplotlib.pyplot as plt\n",
    "import matplotlib.ticker as ticker\n",
    "import numpy as np\n",
    "\n",
    "\n",
    "def show_plot(points):\n",
    "    plt.figure()\n",
    "    fig, ax = plt.subplots()\n",
    "    # this locator puts ticks at regular intervals\n",
    "    loc = ticker.MultipleLocator(base=0.2)\n",
    "    ax.yaxis.set_major_locator(loc)\n",
    "    plt.plot(points)"
   ]
  },
  {
   "cell_type": "code",
   "execution_count": 26,
   "metadata": {},
   "outputs": [],
   "source": [
    "def evaluate(encoder, decoder, sentence, max_length = MAX_LENGTH):\n",
    "    with torch.no_grad():\n",
    "        input_tensor = tensor_from_sentence(input_lang, sentence)\n",
    "        input_length = input_tensor.size()[0]\n",
    "        encoder_hidden = encoder.initHidden()\n",
    "\n",
    "        encoder_outputs = torch.zeros(max_length, encoder.hidden_size)\n",
    "\n",
    "        for ei in range(input_length):\n",
    "            encoder_output, encoder_hidden = encoder(input_tensor[ei],\n",
    "                                                     encoder_hidden)\n",
    "            encoder_outputs[ei] += encoder_output[0, 0]\n",
    "\n",
    "        decoder_input = torch.tensor([[SOS_TOKEN]])  # SOS\n",
    "\n",
    "        decoder_hidden = encoder_hidden\n",
    "\n",
    "        decoded_words = []\n",
    "        decoder_attentions = torch.zeros(max_length, max_length)\n",
    "\n",
    "        for di in range(max_length):\n",
    "            decoder_output, decoder_hidden, decoder_attention = decoder(\n",
    "                decoder_input, decoder_hidden, encoder_outputs)\n",
    "            decoder_attentions[di] = decoder_attention.data\n",
    "            topv, topi = decoder_output.data.topk(1)\n",
    "            if topi.item() == EOS_TOKEN:\n",
    "                decoded_words.append('<EOS>')\n",
    "                break\n",
    "            else:\n",
    "                decoded_words.append(output_lang.idx2word[topi.item()])\n",
    "\n",
    "            decoder_input = topi.squeeze().detach()\n",
    "\n",
    "        return decoded_words, decoder_attentions[:di + 1]"
   ]
  },
  {
   "cell_type": "code",
   "execution_count": 27,
   "metadata": {},
   "outputs": [],
   "source": [
    "def evaluate_randomly(encoder, decoder, n=10):\n",
    "    for i in range(n):\n",
    "        pair = random.choice(pairs)\n",
    "        print('>', pair[0])\n",
    "        print('=', pair[1])\n",
    "        output_words, attentions = evaluate(encoder, decoder, pair[0])\n",
    "        output_sentence = ' '.join(output_words)\n",
    "        print('<', output_sentence)\n",
    "        print('')"
   ]
  },
  {
   "cell_type": "code",
   "execution_count": 28,
   "metadata": {},
   "outputs": [
    {
     "name": "stdout",
     "output_type": "stream",
     "text": [
      "1m 31s (- 150m 26s) (1000 1%) 4.9046\n",
      "3m 5s (- 151m 18s) (2000 2%) 4.3518\n",
      "4m 41s (- 151m 38s) (3000 3%) 3.9469\n",
      "6m 25s (- 154m 22s) (4000 4%) 3.4471\n",
      "8m 14s (- 156m 37s) (5000 5%) 3.1132\n",
      "10m 6s (- 158m 26s) (6000 6%) 2.8288\n",
      "12m 0s (- 159m 36s) (7000 7%) 2.6157\n",
      "13m 56s (- 160m 18s) (8000 8%) 2.2781\n",
      "15m 50s (- 160m 12s) (9000 9%) 2.0561\n",
      "17m 47s (- 160m 6s) (10000 10%) 1.9599\n",
      "19m 47s (- 160m 8s) (11000 11%) 1.8114\n",
      "21m 35s (- 158m 23s) (12000 12%) 1.6606\n",
      "23m 25s (- 156m 47s) (13000 13%) 1.5933\n",
      "25m 13s (- 154m 57s) (14000 14%) 1.4429\n",
      "27m 1s (- 153m 6s) (15000 15%) 1.3917\n",
      "28m 51s (- 151m 32s) (16000 16%) 1.2823\n",
      "30m 41s (- 149m 49s) (17000 17%) 1.2684\n",
      "32m 29s (- 147m 59s) (18000 18%) 1.1932\n",
      "34m 17s (- 146m 10s) (19000 19%) 1.1581\n",
      "36m 8s (- 144m 34s) (20000 20%) 1.1214\n",
      "38m 5s (- 143m 16s) (21000 21%) 1.0411\n",
      "39m 55s (- 141m 34s) (22000 22%) 0.9766\n",
      "41m 45s (- 139m 46s) (23000 23%) 0.9561\n",
      "43m 36s (- 138m 6s) (24000 24%) 0.9543\n",
      "45m 42s (- 137m 7s) (25000 25%) 0.9163\n",
      "47m 40s (- 135m 41s) (26000 26%) 0.9073\n",
      "49m 38s (- 134m 12s) (27000 27%) 0.8671\n",
      "51m 34s (- 132m 36s) (28000 28%) 0.8587\n",
      "53m 31s (- 131m 2s) (29000 28%) 0.8103\n",
      "55m 29s (- 129m 28s) (30000 30%) 0.8289\n",
      "57m 26s (- 127m 51s) (31000 31%) 0.8228\n",
      "59m 23s (- 126m 11s) (32000 32%) 0.7533\n",
      "61m 21s (- 124m 34s) (33000 33%) 0.8540\n",
      "63m 19s (- 122m 54s) (34000 34%) 0.7450\n",
      "65m 19s (- 121m 19s) (35000 35%) 0.7416\n",
      "67m 19s (- 119m 41s) (36000 36%) 0.7403\n",
      "69m 19s (- 118m 1s) (37000 37%) 0.7559\n",
      "71m 12s (- 116m 11s) (38000 38%) 0.7068\n",
      "73m 10s (- 114m 27s) (39000 39%) 0.7530\n",
      "75m 0s (- 112m 30s) (40000 40%) 0.7698\n",
      "76m 55s (- 110m 41s) (41000 41%) 0.6842\n",
      "78m 53s (- 108m 56s) (42000 42%) 0.7084\n",
      "80m 50s (- 107m 9s) (43000 43%) 0.7535\n",
      "82m 47s (- 105m 21s) (44000 44%) 0.6766\n",
      "84m 45s (- 103m 35s) (45000 45%) 0.6783\n",
      "86m 43s (- 101m 48s) (46000 46%) 0.6636\n",
      "88m 41s (- 100m 1s) (47000 47%) 0.6462\n",
      "90m 39s (- 98m 12s) (48000 48%) 0.5901\n",
      "92m 37s (- 96m 24s) (49000 49%) 0.6356\n",
      "94m 35s (- 94m 35s) (50000 50%) 0.6771\n",
      "96m 33s (- 92m 45s) (51000 51%) 0.6437\n",
      "98m 32s (- 90m 57s) (52000 52%) 0.6643\n",
      "100m 30s (- 89m 7s) (53000 53%) 0.6143\n",
      "102m 28s (- 87m 17s) (54000 54%) 0.5983\n",
      "104m 25s (- 85m 26s) (55000 55%) 0.6268\n",
      "106m 23s (- 83m 35s) (56000 56%) 0.5959\n",
      "108m 21s (- 81m 44s) (57000 56%) 0.6073\n",
      "110m 18s (- 79m 52s) (58000 57%) 0.5940\n",
      "112m 16s (- 78m 1s) (59000 59%) 0.5830\n",
      "114m 14s (- 76m 9s) (60000 60%) 0.6041\n",
      "116m 12s (- 74m 17s) (61000 61%) 0.5242\n",
      "118m 10s (- 72m 25s) (62000 62%) 0.5528\n",
      "120m 9s (- 70m 34s) (63000 63%) 0.5720\n",
      "122m 7s (- 68m 41s) (64000 64%) 0.6077\n",
      "124m 4s (- 66m 48s) (65000 65%) 0.5215\n",
      "126m 2s (- 64m 55s) (66000 66%) 0.5861\n",
      "127m 59s (- 63m 2s) (67000 67%) 0.6018\n",
      "129m 58s (- 61m 10s) (68000 68%) 0.6159\n",
      "131m 56s (- 59m 16s) (69000 69%) 0.5376\n",
      "133m 53s (- 57m 23s) (70000 70%) 0.5898\n",
      "135m 52s (- 55m 30s) (71000 71%) 0.5897\n",
      "137m 49s (- 53m 36s) (72000 72%) 0.5489\n",
      "139m 48s (- 51m 42s) (73000 73%) 0.5875\n",
      "141m 43s (- 49m 47s) (74000 74%) 0.5476\n",
      "143m 41s (- 47m 53s) (75000 75%) 0.5838\n",
      "145m 38s (- 45m 59s) (76000 76%) 0.5586\n",
      "147m 35s (- 44m 5s) (77000 77%) 0.5709\n",
      "149m 32s (- 42m 10s) (78000 78%) 0.4971\n",
      "151m 30s (- 40m 16s) (79000 79%) 0.4853\n",
      "153m 28s (- 38m 22s) (80000 80%) 0.5532\n",
      "155m 25s (- 36m 27s) (81000 81%) 0.5903\n",
      "157m 32s (- 34m 34s) (82000 82%) 0.5159\n",
      "159m 33s (- 32m 40s) (83000 83%) 0.5199\n",
      "161m 33s (- 30m 46s) (84000 84%) 0.5320\n",
      "163m 34s (- 28m 51s) (85000 85%) 0.5563\n",
      "165m 35s (- 26m 57s) (86000 86%) 0.5778\n",
      "167m 28s (- 25m 1s) (87000 87%) 0.5515\n",
      "169m 25s (- 23m 6s) (88000 88%) 0.5069\n",
      "171m 21s (- 21m 10s) (89000 89%) 0.5345\n",
      "173m 10s (- 19m 14s) (90000 90%) 0.5117\n",
      "174m 55s (- 17m 18s) (91000 91%) 0.4953\n",
      "176m 42s (- 15m 21s) (92000 92%) 0.4878\n",
      "178m 40s (- 13m 26s) (93000 93%) 0.4769\n",
      "180m 50s (- 11m 32s) (94000 94%) 0.5011\n",
      "183m 12s (- 9m 38s) (95000 95%) 0.5394\n",
      "185m 27s (- 7m 43s) (96000 96%) 0.5199\n",
      "187m 39s (- 5m 48s) (97000 97%) 0.4848\n",
      "189m 58s (- 3m 52s) (98000 98%) 0.5177\n",
      "192m 11s (- 1m 56s) (99000 99%) 0.5836\n",
      "194m 22s (- 0m 0s) (100000 100%) 0.5396\n"
     ]
    },
    {
     "data": {
      "text/plain": [
       "<Figure size 432x288 with 0 Axes>"
      ]
     },
     "metadata": {},
     "output_type": "display_data"
    },
    {
     "data": {
      "image/png": "[encoded data removed]",
      "text/plain": [
       "<Figure size 432x288 with 1 Axes>"
      ]
     },
     "metadata": {},
     "output_type": "display_data"
    }
   ],
   "source": [
    "hidden_size = 256\n",
    "encoder1 = EncoderRNN(eng_vocab_size, hidden_size)\n",
    "attn_decoder1 = AttnDecoderRNN(hidden_size, hin_vocab_size, dropout_p = 0.1)\n",
    "\n",
    "train_iters(encoder1, attn_decoder1, 100000, print_every = 1000)"
   ]
  },
  {
   "cell_type": "code",
   "execution_count": 68,
   "metadata": {},
   "outputs": [
    {
     "name": "stdout",
     "output_type": "stream",
     "text": [
      "> you are at it again .\n",
      "= तुम फिरसे चालू हो गए ।\n",
      "< तुम इसे फिरसे फिरसे फिरसे हो गए हो । <EOS>\n",
      "\n",
      "> you must get rid of such a habit .\n",
      "= तुम्हे इस तरह की आदत तोड़ देनी चाहिए ।\n",
      "< तुम्हे इस तरह की आदत तोड़ देनी चाहिए । <EOS>\n",
      "\n",
      "> we have two unused rooms in our house .\n",
      "= हमारे पास घर में दो कमरे हैं जिनका हम इस्तेमाल नहीं कर रहे हैं ।\n",
      "< हमारे पास घर में के पास घर हैं । <EOS>\n",
      "\n",
      "> i do not know .\n",
      "= मुझे नहीं पता ।\n",
      "< मुझे नहीं मालूम । <EOS>\n",
      "\n",
      "> i forgot .\n",
      "= मैं भूल गई ।\n",
      "< मैं भूल गया । <EOS>\n",
      "\n",
      "> she complained to me of his rudeness .\n",
      "= उसने मुझसे उसकी असभ्यता के बारे में शिक़ायत करी ।\n",
      "< उसने मुझसे उसकी उसकी उसकी शिक़ायत दिया । <EOS>\n",
      "\n",
      "> my money was stolen .\n",
      "= मेरे पैसे चोरी हो गए ।\n",
      "< मेरे चोरी हो गया था । <EOS>\n",
      "\n",
      "> we would die without air .\n",
      "= हम हवा के बिना मर जाएँगे ।\n",
      "< हमने हवा के बिना मर । <EOS>\n",
      "\n",
      "> is it possible to borrow money\n",
      "= क्या पैसे उधार लिए जा सकते हैं ?\n",
      "< वहाँ क्यों है, क्या ? <EOS>\n",
      "\n",
      "> both of my sisters are married .\n",
      "= मेरी दोनो बहनें शादीशुदा हैं ।\n",
      "< मेरी दोनो दोनो दोनो हैं हैं हैं हैं । <EOS>\n",
      "\n"
     ]
    }
   ],
   "source": [
    "evaluate_randomly(encoder1, attn_decoder1)"
   ]
  },
  {
   "cell_type": "code",
   "execution_count": 81,
   "metadata": {},
   "outputs": [
    {
     "data": {
      "text/plain": [
       "<matplotlib.image.AxesImage at 0x7f1156de3da0>"
      ]
     },
     "execution_count": 81,
     "metadata": {},
     "output_type": "execute_result"
    },
    {
     "data": {
      "image/png": "[encoded data removed]",
      "text/plain": [
       "<Figure size 1152x144 with 1 Axes>"
      ]
     },
     "metadata": {},
     "output_type": "display_data"
    }
   ],
   "source": [
    "output_words, attentions = evaluate(\n",
    "    encoder1, attn_decoder1, \"i want a drink .\")\n",
    "plt.matshow(attentions.numpy())"
   ]
  },
  {
   "cell_type": "code",
   "execution_count": 85,
   "metadata": {},
   "outputs": [
    {
     "name": "stdout",
     "output_type": "stream",
     "text": [
      "input = wow !\n",
      "output = बधाई ! <EOS>\n"
     ]
    },
    {
     "data": {
      "image/png": "[encoded data removed]",
      "text/plain": [
       "<Figure size 720x720 with 2 Axes>"
      ]
     },
     "metadata": {},
     "output_type": "display_data"
    }
   ],
   "source": [
    "def showAttention(input_sentence, output_words, attentions):\n",
    "    # Set up figure with colorbar\n",
    "    fig = plt.figure(figsize=(10, 10))\n",
    "    ax = fig.add_subplot(111)\n",
    "    cax = ax.matshow(attentions.numpy(), cmap='bone')\n",
    "    fig.colorbar(cax)\n",
    "\n",
    "    # Set up axes\n",
    "    ax.set_xticklabels([''] + input_sentence.split(' ') +\n",
    "                       ['<EOS>'], rotation=90)\n",
    "    ax.set_yticklabels([''] + output_words)\n",
    "\n",
    "    # Show label at every tick\n",
    "    ax.xaxis.set_major_locator(ticker.MultipleLocator(1))\n",
    "    ax.yaxis.set_major_locator(ticker.MultipleLocator(1))\n",
    "\n",
    "    plt.show()\n",
    "\n",
    "\n",
    "def evaluateAndShowAttention(input_sentence):\n",
    "    output_words, attentions = evaluate(\n",
    "        encoder1, attn_decoder1, input_sentence)\n",
    "    print('input =', input_sentence)\n",
    "    print('output =', ' '.join(output_words))\n",
    "    showAttention(input_sentence, output_words, attentions)\n",
    "\n",
    "\n",
    "evaluateAndShowAttention(\"wow !\")\n",
    "\n",
    "# evaluateAndShowAttention(\"elle est trop petit .\")\n",
    "\n",
    "# evaluateAndShowAttention(\"je ne crains pas de mourir .\")\n",
    "\n",
    "# evaluateAndShowAttention(\"c est un jeune directeur plein de talent .\")"
   ]
  },
  {
   "cell_type": "code",
   "execution_count": null,
   "metadata": {},
   "outputs": [],
   "source": []
  },
  {
   "cell_type": "code",
   "execution_count": null,
   "metadata": {},
   "outputs": [],
   "source": []
  },
  {
   "cell_type": "code",
   "execution_count": null,
   "metadata": {},
   "outputs": [],
   "source": []
  },
  {
   "cell_type": "code",
   "execution_count": 89,
   "metadata": {},
   "outputs": [],
   "source": [
    "from IPython.display import clear_output"
   ]
  },
  {
   "cell_type": "code",
   "execution_count": 96,
   "metadata": {},
   "outputs": [
    {
     "name": "stdout",
     "output_type": "stream",
     "text": [
      "क्या स्कूल से हुआ था ? <EOS>\n"
     ]
    }
   ],
   "source": [
    "s = input('Enter sentence :: ')\n",
    "output_words, attentions = evaluate(encoder1, attn_decoder1, normalize_string(s))\n",
    "print(' '.join(output_words))"
   ]
  },
  {
   "cell_type": "code",
   "execution_count": null,
   "metadata": {},
   "outputs": [],
   "source": []
  }
 ],
 "metadata": {
  "kernelspec": {
   "display_name": "Python 3",
   "language": "python",
   "name": "python3"
  },
  "language_info": {
   "codemirror_mode": {
    "name": "ipython",
    "version": 3
   },
   "file_extension": ".py",
   "mimetype": "text/x-python",
   "name": "python",
   "nbconvert_exporter": "python",
   "pygments_lexer": "ipython3",
   "version": "3.6.2"
  }
 },
 "nbformat": 4,
 "nbformat_minor": 2
}
